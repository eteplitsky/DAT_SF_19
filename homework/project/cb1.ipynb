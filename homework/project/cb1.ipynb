{
 "cells": [
  {
   "cell_type": "markdown",
   "metadata": {},
   "source": [
    "# GA DAT 19 Final Project\n",
    "Esther Teplitsky\n",
    "March 2016\n",
    "\n",
    "Data source: [\"CrunchBase 2013 Snapshot\" © 2013](https://data.crunchbase.com/v3/docs/2013-snapshot)\n",
    "This is historical CrunchBase data from December 2013 provided for experimentation."
   ]
  },
  {
   "cell_type": "code",
   "execution_count": 1,
   "metadata": {
    "collapsed": true
   },
   "outputs": [],
   "source": [
    "# imports\n",
    "import sys\n",
    "import pandas as pd\n",
    "import numpy as np\n",
    "import matplotlib as plt\n",
    "import seaborn as sns\n",
    "sns.set(style=\"white\", color_codes=True)\n",
    "%matplotlib inline\n",
    "\n",
    "#import nltk\n",
    "#from sklearn.cluster import KMeans\n",
    "#from sklearn.metrics import silhouette_score\n",
    "\n",
    "#from sklearn.cross_validation import train_test_split\n",
    "#from sklearn.cross_validation import cross_val_score\n",
    "#from sklearn.naive_bayes import MultinomialNB #assumes multinomial distribution of probabilities\n",
    "#from sklearn import metrics\n",
    "\n",
    "#from sklearn.cross_validation import cross_val_score\n",
    "#from sklearn.linear_model import LogisticRegression\n",
    "#from sklearn.neighbors import KNeighborsClassifier\n",
    "#from sklearn.preprocessing import StandardScaler\n",
    "\n",
    "#from bokeh.plotting import figure,show,output_notebook\n",
    "#from bokeh.models import Range1d\n",
    "#output_notebook()\n",
    "\n",
    "#note for later: check out pd.datetimeindex"
   ]
  },
  {
   "cell_type": "markdown",
   "metadata": {},
   "source": [
    "## Part 1: Importing the Data"
   ]
  },
  {
   "cell_type": "code",
   "execution_count": 2,
   "metadata": {
    "collapsed": false
   },
   "outputs": [],
   "source": [
    "# list of files of raw mysql dump data\n",
    "\n",
    "cbfiles = ['cb_ipos.sql','cb_relationships.sql', 'cb_people.sql', 'cb_offices.sql', \\\n",
    "            'cb_milestones.sql', 'cb_investments.sql', 'cb_funds.sql', 'cb_funding_rounds.sql', \\\n",
    "            'cb_degrees.sql', 'cb_acquisitions.sql', 'cb_objects.sql']"
   ]
  },
  {
   "cell_type": "code",
   "execution_count": 3,
   "metadata": {
    "collapsed": false
   },
   "outputs": [],
   "source": [
    "# function that creates dataframe from crunchbase mysql dump file\n",
    "        \n",
    "def cbdf(name):\n",
    "    columns=[]\n",
    "    with open(name,'r') as ipos:\n",
    "        for line in ipos:\n",
    "            if 'NULL,\\n' in line:\n",
    "                columns.append(line.split('\"')[1])\n",
    "            if line.startswith('INSERT INTO'):\n",
    "                values=line.partition('VALUES (')[2][:-3]\n",
    "                values = values.split('),(')\n",
    "                values = [i.split(',') for i in values]\n",
    "                df = pd.DataFrame.from_records(values)\n",
    "                df = df[df.columns[:len(columns)]]\n",
    "                df.columns=columns\n",
    "                return df"
   ]
  },
  {
   "cell_type": "code",
   "execution_count": 4,
   "metadata": {
    "collapsed": true
   },
   "outputs": [],
   "source": [
    "#create dataframes from all files\n",
    "dfs=[cbdf(names) for names in cbfiles]                    "
   ]
  },
  {
   "cell_type": "code",
   "execution_count": 5,
   "metadata": {
    "collapsed": true
   },
   "outputs": [],
   "source": [
    "#create variable names for all the dataframes\n",
    "cb_ipos = dfs[0]\n",
    "cb_relationships = dfs[1]\n",
    "cb_people = dfs[2]\n",
    "cb_offices = dfs[3]\n",
    "cb_milestones = dfs[4]\n",
    "cb_investments = dfs[5]\n",
    "cb_funds = dfs[6]\n",
    "cb_funding_rounds = dfs[7]\n",
    "cb_degrees = dfs[8]\n",
    "cb_acquisitions = dfs[9]\n",
    "cb_objects = dfs[10]"
   ]
  },
  {
   "cell_type": "markdown",
   "metadata": {},
   "source": [
    "## Part 2: Data Exploration"
   ]
  },
  {
   "cell_type": "code",
   "execution_count": 6,
   "metadata": {
    "collapsed": false
   },
   "outputs": [
    {
     "data": {
      "text/plain": [
       "<matplotlib.text.Text at 0x21cab390>"
      ]
     },
     "execution_count": 6,
     "metadata": {},
     "output_type": "execute_result"
    },
    {
     "data": {
      "image/png": "[encoded data removed]",
      "text/plain": [
       "<matplotlib.figure.Figure at 0x1d68eb00>"
      ]
     },
     "metadata": {},
     "output_type": "display_data"
    }
   ],
   "source": [
    "#plotting some initial relationships\n",
    "temp1 = cb_ipos.groupby('raised_currency_code').ipo_id.count()\n",
    "temp2 = cb_acquisitions.groupby('price_currency_code').acquisition_id.count()\n",
    "temp3 = cb_acquisitions.groupby('term_code').acquisition_id.count()\n",
    "\n",
    "fig = plt.pyplot.figure(figsize=(12,4))\n",
    "ax1 = fig.add_subplot(131)\n",
    "ax1.set_xlabel('currency type')\n",
    "ax1.set_ylabel('# IPOs')\n",
    "ax1.set_title(\"IPOs by currency type\")\n",
    "temp1.plot(kind='bar')\n",
    "\n",
    "ax2 = fig.add_subplot(132)\n",
    "temp2.plot(kind = 'bar')\n",
    "ax2.set_xlabel('currency type')\n",
    "ax2.set_ylabel('# Acquisitions')\n",
    "ax2.set_title(\"Acqusitions by currency type\")\n",
    "\n",
    "ax3 = fig.add_subplot(133)\n",
    "temp3.plot(kind = 'bar')\n",
    "ax3.set_xlabel('acquisition type')\n",
    "ax3.set_ylabel('# Acquisitions')\n",
    "ax3.set_title(\"Acqusitions by type\")"
   ]
  },
  {
   "cell_type": "code",
   "execution_count": 7,
   "metadata": {
    "collapsed": false,
    "scrolled": true
   },
   "outputs": [
    {
     "name": "stdout",
     "output_type": "stream",
     "text": [
      "<class 'pandas.core.frame.DataFrame'>\n",
      "Int64Index: 1259 entries, 0 to 1258\n",
      "Data columns (total 13 columns):\n",
      "id                         1259 non-null object\n",
      "ipo_id                     1259 non-null object\n",
      "object_id                  1259 non-null object\n",
      "valuation_amount           1259 non-null object\n",
      "valuation_currency_code    1259 non-null object\n",
      "raised_amount              1259 non-null object\n",
      "raised_currency_code       1259 non-null object\n",
      "public_at                  1259 non-null object\n",
      "stock_symbol               1259 non-null object\n",
      "source_url                 1259 non-null object\n",
      "source_description         1259 non-null object\n",
      "created_at                 1259 non-null object\n",
      "updated_at                 1259 non-null object\n",
      "dtypes: object(13)\n",
      "memory usage: 137.7+ KB\n",
      "None\n",
      "<class 'pandas.core.frame.DataFrame'>\n",
      "Int64Index: 988 entries, 0 to 987\n",
      "Data columns (total 38 columns):\n",
      "id                     988 non-null object\n",
      "entity_type            988 non-null object\n",
      "entity_id              988 non-null object\n",
      "parent_id              988 non-null object\n",
      "name                   988 non-null object\n",
      "normalized_name        988 non-null object\n",
      "permalink              988 non-null object\n",
      "category_code          988 non-null object\n",
      "founded_at             988 non-null object\n",
      "closed_at              988 non-null object\n",
      "domain                 988 non-null object\n",
      "homepage_url           988 non-null object\n",
      "twitter_username       988 non-null object\n",
      "logo_url               988 non-null object\n",
      "logo_width             988 non-null object\n",
      "logo_height            988 non-null object\n",
      "short_description      988 non-null object\n",
      "description            988 non-null object\n",
      "tag_list               988 non-null object\n",
      "country_code           988 non-null object\n",
      "state_code             988 non-null object\n",
      "city                   988 non-null object\n",
      "region                 988 non-null object\n",
      "first_investment_at    988 non-null object\n",
      "last_investment_at     988 non-null object\n",
      "investment_rounds      988 non-null object\n",
      "invested_companies     988 non-null object\n",
      "first_funding_at       988 non-null object\n",
      "last_funding_at        988 non-null object\n",
      "funding_rounds         988 non-null object\n",
      "funding_total_usd      988 non-null object\n",
      "first_milestone_at     988 non-null object\n",
      "last_milestone_at      988 non-null object\n",
      "milestones             988 non-null object\n",
      "relationships          988 non-null object\n",
      "created_by             988 non-null object\n",
      "created_at             988 non-null object\n",
      "updated_at             988 non-null object\n",
      "dtypes: object(38)\n",
      "memory usage: 301.0+ KB\n",
      "None\n"
     ]
    }
   ],
   "source": [
    "print cb_ipos.info()\n",
    "print cb_objects.info()"
   ]
  },
  {
   "cell_type": "code",
   "execution_count": 8,
   "metadata": {
    "collapsed": false
   },
   "outputs": [
    {
     "data": {
      "text/plain": [
       "'operating'           846\n",
       "'acquired'             84\n",
       "'closed'               31\n",
       "'ipo'                   8\n",
       "NULL                    7\n",
       "'software'              2\n",
       "'mobile'                2\n",
       "'web'                   2\n",
       "'public_relations'      1\n",
       "'search'                1\n",
       "'hardware'              1\n",
       "'advertising'           1\n",
       "'games_video'           1\n",
       "'network_hosting'       1\n",
       "Name: founded_at, dtype: int64"
      ]
     },
     "execution_count": 8,
     "metadata": {},
     "output_type": "execute_result"
    }
   ],
   "source": [
    "cb_objects.founded_at.value_counts()"
   ]
  },
  {
   "cell_type": "code",
   "execution_count": 9,
   "metadata": {
    "collapsed": false
   },
   "outputs": [
    {
     "data": {
      "text/html": [
       "<div>\n",
       "<table border=\"1\" class=\"dataframe\">\n",
       "  <thead>\n",
       "    <tr style=\"text-align: right;\">\n",
       "      <th></th>\n",
       "      <th>id_x</th>\n",
       "      <th>entity_type</th>\n",
       "      <th>entity_id</th>\n",
       "      <th>parent_id</th>\n",
       "      <th>name</th>\n",
       "      <th>normalized_name</th>\n",
       "      <th>permalink</th>\n",
       "      <th>category_code</th>\n",
       "      <th>founded_at</th>\n",
       "      <th>closed_at</th>\n",
       "      <th>...</th>\n",
       "      <th>valuation_amount</th>\n",
       "      <th>valuation_currency_code</th>\n",
       "      <th>raised_amount</th>\n",
       "      <th>raised_currency_code</th>\n",
       "      <th>public_at</th>\n",
       "      <th>stock_symbol</th>\n",
       "      <th>source_url</th>\n",
       "      <th>source_description</th>\n",
       "      <th>created_at_y</th>\n",
       "      <th>updated_at_y</th>\n",
       "    </tr>\n",
       "  </thead>\n",
       "  <tbody>\n",
       "    <tr>\n",
       "      <th>0</th>\n",
       "      <td>'c:100844'</td>\n",
       "      <td>'Company'</td>\n",
       "      <td>100844</td>\n",
       "      <td>NULL</td>\n",
       "      <td>'Attunity'</td>\n",
       "      <td>'attunity'</td>\n",
       "      <td>'/company/attunity'</td>\n",
       "      <td>'software'</td>\n",
       "      <td>'ipo'</td>\n",
       "      <td>NULL</td>\n",
       "      <td>...</td>\n",
       "      <td>NULL</td>\n",
       "      <td>'USD'</td>\n",
       "      <td>NULL</td>\n",
       "      <td>'USD'</td>\n",
       "      <td>'2007-08-01'</td>\n",
       "      <td>'ATTU'</td>\n",
       "      <td>'http://www.attunity.com/news/attunity-receive...</td>\n",
       "      <td>'ATTUNITY receives Nasdaq�s approval to trade ...</td>\n",
       "      <td>'2013-07-16 16:05:56'</td>\n",
       "      <td>'2013-07-16 17:51:40'</td>\n",
       "    </tr>\n",
       "    <tr>\n",
       "      <th>1</th>\n",
       "      <td>'c:10106'</td>\n",
       "      <td>'Company'</td>\n",
       "      <td>10106</td>\n",
       "      <td>NULL</td>\n",
       "      <td>'Thomson Reuters'</td>\n",
       "      <td>'thomson reuters'</td>\n",
       "      <td>'/company/thomson-reuters'</td>\n",
       "      <td>'public_relations'</td>\n",
       "      <td>'ipo'</td>\n",
       "      <td>'2008-04-17'</td>\n",
       "      <td>...</td>\n",
       "      <td>NULL</td>\n",
       "      <td>'USD'</td>\n",
       "      <td>NULL</td>\n",
       "      <td>'USD'</td>\n",
       "      <td>'2002-06-21'</td>\n",
       "      <td>'NYSE:TRI'</td>\n",
       "      <td>NULL</td>\n",
       "      <td>NULL</td>\n",
       "      <td>'2013-08-26 10:53:26'</td>\n",
       "      <td>'2013-08-26 20:14:31'</td>\n",
       "    </tr>\n",
       "    <tr>\n",
       "      <th>2</th>\n",
       "      <td>'c:10166'</td>\n",
       "      <td>'Company'</td>\n",
       "      <td>10166</td>\n",
       "      <td>NULL</td>\n",
       "      <td>'Acxiom'</td>\n",
       "      <td>'acxiom'</td>\n",
       "      <td>'/company/acxiom'</td>\n",
       "      <td>'software'</td>\n",
       "      <td>'ipo'</td>\n",
       "      <td>'1969-01-01'</td>\n",
       "      <td>...</td>\n",
       "      <td>NULL</td>\n",
       "      <td>'USD'</td>\n",
       "      <td>NULL</td>\n",
       "      <td>'USD'</td>\n",
       "      <td>NULL</td>\n",
       "      <td>'NASDAQ:ACXM'</td>\n",
       "      <td>NULL</td>\n",
       "      <td>NULL</td>\n",
       "      <td>'2012-04-20 02:43:36'</td>\n",
       "      <td>'2012-04-20 02:43:36'</td>\n",
       "    </tr>\n",
       "    <tr>\n",
       "      <th>3</th>\n",
       "      <td>'c:10222'</td>\n",
       "      <td>'Company'</td>\n",
       "      <td>10222</td>\n",
       "      <td>NULL</td>\n",
       "      <td>'Hitachi'</td>\n",
       "      <td>'hitachi'</td>\n",
       "      <td>'/company/hitachi'</td>\n",
       "      <td>'public_relations'</td>\n",
       "      <td>'ipo'</td>\n",
       "      <td>NULL</td>\n",
       "      <td>...</td>\n",
       "      <td>NULL</td>\n",
       "      <td>'USD'</td>\n",
       "      <td>NULL</td>\n",
       "      <td>'USD'</td>\n",
       "      <td>'1978-01-13'</td>\n",
       "      <td>'NYSE:HIT'</td>\n",
       "      <td>NULL</td>\n",
       "      <td>NULL</td>\n",
       "      <td>'2012-04-12 04:27:30'</td>\n",
       "      <td>'2012-04-12 04:27:30'</td>\n",
       "    </tr>\n",
       "    <tr>\n",
       "      <th>4</th>\n",
       "      <td>'c:10241'</td>\n",
       "      <td>'Company'</td>\n",
       "      <td>10241</td>\n",
       "      <td>NULL</td>\n",
       "      <td>'Global Crossing'</td>\n",
       "      <td>'global crossing'</td>\n",
       "      <td>'/company/global-crossing'</td>\n",
       "      <td>'public_relations'</td>\n",
       "      <td>'acquired'</td>\n",
       "      <td>'1997-01-01'</td>\n",
       "      <td>...</td>\n",
       "      <td>NULL</td>\n",
       "      <td>'USD'</td>\n",
       "      <td>NULL</td>\n",
       "      <td>NULL</td>\n",
       "      <td>NULL</td>\n",
       "      <td>'NASDAQ:GLBC'</td>\n",
       "      <td>NULL</td>\n",
       "      <td>NULL</td>\n",
       "      <td>'2010-11-03 04:44:51'</td>\n",
       "      <td>'2010-11-03 04:44:51'</td>\n",
       "    </tr>\n",
       "    <tr>\n",
       "      <th>5</th>\n",
       "      <td>'c:104198'</td>\n",
       "      <td>'Company'</td>\n",
       "      <td>104198</td>\n",
       "      <td>NULL</td>\n",
       "      <td>'Integra LifeSciences Holdings'</td>\n",
       "      <td>'integra lifesciences holdings'</td>\n",
       "      <td>'/company/integra-lifesciences-holdings'</td>\n",
       "      <td>'biotech'</td>\n",
       "      <td>'ipo'</td>\n",
       "      <td>NULL</td>\n",
       "      <td>...</td>\n",
       "      <td>NULL</td>\n",
       "      <td>'USD'</td>\n",
       "      <td>NULL</td>\n",
       "      <td>NULL</td>\n",
       "      <td>NULL</td>\n",
       "      <td>'NASDAQ:IART'</td>\n",
       "      <td>NULL</td>\n",
       "      <td>NULL</td>\n",
       "      <td>'2011-09-13 03:33:01'</td>\n",
       "      <td>'2011-09-13 03:33:01'</td>\n",
       "    </tr>\n",
       "    <tr>\n",
       "      <th>6</th>\n",
       "      <td>'c:104377'</td>\n",
       "      <td>'Company'</td>\n",
       "      <td>104377</td>\n",
       "      <td>NULL</td>\n",
       "      <td>'Tremor Video'</td>\n",
       "      <td>'tremor video'</td>\n",
       "      <td>'/company/tremor-video'</td>\n",
       "      <td>'advertising'</td>\n",
       "      <td>'ipo'</td>\n",
       "      <td>'2005-01-01'</td>\n",
       "      <td>...</td>\n",
       "      <td>NULL</td>\n",
       "      <td>'USD'</td>\n",
       "      <td>75000000</td>\n",
       "      <td>'USD'</td>\n",
       "      <td>'2013-06-27'</td>\n",
       "      <td>'NYSE:TRMR'</td>\n",
       "      <td>'http://www.bizjournals.com/newyork/news/2013/...</td>\n",
       "      <td>'Tremor Video�s stock falls after IPO</td>\n",
       "      <td>Silvercrest soars'</td>\n",
       "      <td>'2013-05-24 05:04:39'</td>\n",
       "    </tr>\n",
       "    <tr>\n",
       "      <th>7</th>\n",
       "      <td>'c:10453'</td>\n",
       "      <td>'Company'</td>\n",
       "      <td>10453</td>\n",
       "      <td>NULL</td>\n",
       "      <td>'Bankrate'</td>\n",
       "      <td>'bankrate'</td>\n",
       "      <td>'/company/bankrate'</td>\n",
       "      <td>'web'</td>\n",
       "      <td>'ipo'</td>\n",
       "      <td>'1993-01-01'</td>\n",
       "      <td>...</td>\n",
       "      <td>NULL</td>\n",
       "      <td>'USD'</td>\n",
       "      <td>NULL</td>\n",
       "      <td>'USD'</td>\n",
       "      <td>'2011-06-24'</td>\n",
       "      <td>'NYSE:RATE'</td>\n",
       "      <td>NULL</td>\n",
       "      <td>NULL</td>\n",
       "      <td>'2013-08-27 07:18:08'</td>\n",
       "      <td>'2013-08-27 07:18:08'</td>\n",
       "    </tr>\n",
       "    <tr>\n",
       "      <th>8</th>\n",
       "      <td>'c:10475'</td>\n",
       "      <td>'Company'</td>\n",
       "      <td>10475</td>\n",
       "      <td>NULL</td>\n",
       "      <td>'Abbott Labs'</td>\n",
       "      <td>'abbott labs'</td>\n",
       "      <td>'/company/abbott'</td>\n",
       "      <td>'biotech'</td>\n",
       "      <td>'ipo'</td>\n",
       "      <td>'1991-01-01'</td>\n",
       "      <td>...</td>\n",
       "      <td>NULL</td>\n",
       "      <td>'USD'</td>\n",
       "      <td>NULL</td>\n",
       "      <td>'USD'</td>\n",
       "      <td>'1990-01-02'</td>\n",
       "      <td>'NYSE:ABT'</td>\n",
       "      <td>NULL</td>\n",
       "      <td>NULL</td>\n",
       "      <td>'2010-03-10 10:57:24'</td>\n",
       "      <td>'2013-10-28 03:07:54'</td>\n",
       "    </tr>\n",
       "  </tbody>\n",
       "</table>\n",
       "<p>9 rows × 51 columns</p>\n",
       "</div>"
      ],
      "text/plain": [
       "         id_x entity_type entity_id parent_id  \\\n",
       "0  'c:100844'   'Company'    100844      NULL   \n",
       "1   'c:10106'   'Company'     10106      NULL   \n",
       "2   'c:10166'   'Company'     10166      NULL   \n",
       "3   'c:10222'   'Company'     10222      NULL   \n",
       "4   'c:10241'   'Company'     10241      NULL   \n",
       "5  'c:104198'   'Company'    104198      NULL   \n",
       "6  'c:104377'   'Company'    104377      NULL   \n",
       "7   'c:10453'   'Company'     10453      NULL   \n",
       "8   'c:10475'   'Company'     10475      NULL   \n",
       "\n",
       "                              name                  normalized_name  \\\n",
       "0                       'Attunity'                       'attunity'   \n",
       "1                'Thomson Reuters'                'thomson reuters'   \n",
       "2                         'Acxiom'                         'acxiom'   \n",
       "3                        'Hitachi'                        'hitachi'   \n",
       "4                'Global Crossing'                'global crossing'   \n",
       "5  'Integra LifeSciences Holdings'  'integra lifesciences holdings'   \n",
       "6                   'Tremor Video'                   'tremor video'   \n",
       "7                       'Bankrate'                       'bankrate'   \n",
       "8                    'Abbott Labs'                    'abbott labs'   \n",
       "\n",
       "                                  permalink       category_code  founded_at  \\\n",
       "0                       '/company/attunity'          'software'       'ipo'   \n",
       "1                '/company/thomson-reuters'  'public_relations'       'ipo'   \n",
       "2                         '/company/acxiom'          'software'       'ipo'   \n",
       "3                        '/company/hitachi'  'public_relations'       'ipo'   \n",
       "4                '/company/global-crossing'  'public_relations'  'acquired'   \n",
       "5  '/company/integra-lifesciences-holdings'           'biotech'       'ipo'   \n",
       "6                   '/company/tremor-video'       'advertising'       'ipo'   \n",
       "7                       '/company/bankrate'               'web'       'ipo'   \n",
       "8                         '/company/abbott'           'biotech'       'ipo'   \n",
       "\n",
       "      closed_at          ...           valuation_amount  \\\n",
       "0          NULL          ...                       NULL   \n",
       "1  '2008-04-17'          ...                       NULL   \n",
       "2  '1969-01-01'          ...                       NULL   \n",
       "3          NULL          ...                       NULL   \n",
       "4  '1997-01-01'          ...                       NULL   \n",
       "5          NULL          ...                       NULL   \n",
       "6  '2005-01-01'          ...                       NULL   \n",
       "7  '1993-01-01'          ...                       NULL   \n",
       "8  '1991-01-01'          ...                       NULL   \n",
       "\n",
       "  valuation_currency_code raised_amount raised_currency_code     public_at  \\\n",
       "0                   'USD'          NULL                'USD'  '2007-08-01'   \n",
       "1                   'USD'          NULL                'USD'  '2002-06-21'   \n",
       "2                   'USD'          NULL                'USD'          NULL   \n",
       "3                   'USD'          NULL                'USD'  '1978-01-13'   \n",
       "4                   'USD'          NULL                 NULL          NULL   \n",
       "5                   'USD'          NULL                 NULL          NULL   \n",
       "6                   'USD'      75000000                'USD'  '2013-06-27'   \n",
       "7                   'USD'          NULL                'USD'  '2011-06-24'   \n",
       "8                   'USD'          NULL                'USD'  '1990-01-02'   \n",
       "\n",
       "    stock_symbol                                         source_url  \\\n",
       "0         'ATTU'  'http://www.attunity.com/news/attunity-receive...   \n",
       "1     'NYSE:TRI'                                               NULL   \n",
       "2  'NASDAQ:ACXM'                                               NULL   \n",
       "3     'NYSE:HIT'                                               NULL   \n",
       "4  'NASDAQ:GLBC'                                               NULL   \n",
       "5  'NASDAQ:IART'                                               NULL   \n",
       "6    'NYSE:TRMR'  'http://www.bizjournals.com/newyork/news/2013/...   \n",
       "7    'NYSE:RATE'                                               NULL   \n",
       "8     'NYSE:ABT'                                               NULL   \n",
       "\n",
       "                                  source_description           created_at_y  \\\n",
       "0  'ATTUNITY receives Nasdaq�s approval to trade ...  '2013-07-16 16:05:56'   \n",
       "1                                               NULL  '2013-08-26 10:53:26'   \n",
       "2                                               NULL  '2012-04-20 02:43:36'   \n",
       "3                                               NULL  '2012-04-12 04:27:30'   \n",
       "4                                               NULL  '2010-11-03 04:44:51'   \n",
       "5                                               NULL  '2011-09-13 03:33:01'   \n",
       "6              'Tremor Video�s stock falls after IPO     Silvercrest soars'   \n",
       "7                                               NULL  '2013-08-27 07:18:08'   \n",
       "8                                               NULL  '2010-03-10 10:57:24'   \n",
       "\n",
       "            updated_at_y  \n",
       "0  '2013-07-16 17:51:40'  \n",
       "1  '2013-08-26 20:14:31'  \n",
       "2  '2012-04-20 02:43:36'  \n",
       "3  '2012-04-12 04:27:30'  \n",
       "4  '2010-11-03 04:44:51'  \n",
       "5  '2011-09-13 03:33:01'  \n",
       "6  '2013-05-24 05:04:39'  \n",
       "7  '2013-08-27 07:18:08'  \n",
       "8  '2013-10-28 03:07:54'  \n",
       "\n",
       "[9 rows x 51 columns]"
      ]
     },
     "execution_count": 9,
     "metadata": {},
     "output_type": "execute_result"
    }
   ],
   "source": [
    "#tried joining the object and ipos datasets to get more information about ipoing companies.\n",
    "# turned out to be only 9 matches, leaving me to believe that the data is not useful for this case. \n",
    "# missing data? incorrect key?\n",
    "\n",
    "objipo=pd.merge(cb_objects, cb_ipos, how = 'inner', left_on = 'id', right_on='object_id')\n",
    "objipo"
   ]
  },
  {
   "cell_type": "markdown",
   "metadata": {},
   "source": [
    "## Part 3: Changing the question"
   ]
  },
  {
   "cell_type": "code",
   "execution_count": 10,
   "metadata": {
    "collapsed": false
   },
   "outputs": [],
   "source": [
    "##Looking just at founding_rounds to try to see the relationship between funding rounds and amount raised\n",
    "cb_funding_rounds['funded_at_yr'] = cb_funding_rounds['funded_at'].apply(lambda x: x.split('-')[0][1:])"
   ]
  },
  {
   "cell_type": "code",
   "execution_count": 11,
   "metadata": {
    "collapsed": false
   },
   "outputs": [],
   "source": [
    "cb_funding_rounds = cb_funding_rounds.drop(['participants', 'source_url','source_description', 'created_by' ,'created_at', 'updated_at'], axis=1)"
   ]
  },
  {
   "cell_type": "code",
   "execution_count": 12,
   "metadata": {
    "collapsed": false
   },
   "outputs": [
    {
     "name": "stdout",
     "output_type": "stream",
     "text": [
      "<class 'pandas.core.frame.DataFrame'>\n",
      "Int64Index: 4181 entries, 0 to 4180\n",
      "Data columns (total 16 columns):\n",
      "id                          4181 non-null object\n",
      "funding_round_id            4181 non-null object\n",
      "object_id                   4181 non-null object\n",
      "funded_at                   4181 non-null object\n",
      "funding_round_type          4181 non-null object\n",
      "funding_round_code          4181 non-null object\n",
      "raised_amount_usd           4181 non-null object\n",
      "raised_amount               4181 non-null object\n",
      "raised_currency_code        4181 non-null object\n",
      "pre_money_valuation_usd     4181 non-null object\n",
      "pre_money_valuation         4181 non-null object\n",
      "pre_money_currency_code     4181 non-null object\n",
      "post_money_valuation_usd    4181 non-null object\n",
      "post_money_valuation        4181 non-null object\n",
      "post_money_currency_code    4181 non-null object\n",
      "funded_at_yr                4181 non-null object\n",
      "dtypes: object(16)\n",
      "memory usage: 555.3+ KB\n"
     ]
    }
   ],
   "source": [
    "cb_funding_rounds.info()"
   ]
  },
  {
   "cell_type": "code",
   "execution_count": 13,
   "metadata": {
    "collapsed": false
   },
   "outputs": [
    {
     "data": {
      "text/html": [
       "<div>\n",
       "<table border=\"1\" class=\"dataframe\">\n",
       "  <thead>\n",
       "    <tr style=\"text-align: right;\">\n",
       "      <th></th>\n",
       "      <th>id</th>\n",
       "      <th>funding_round_id</th>\n",
       "      <th>object_id</th>\n",
       "      <th>funded_at</th>\n",
       "      <th>funding_round_type</th>\n",
       "      <th>funding_round_code</th>\n",
       "      <th>raised_amount_usd</th>\n",
       "      <th>raised_amount</th>\n",
       "      <th>raised_currency_code</th>\n",
       "      <th>pre_money_valuation_usd</th>\n",
       "      <th>pre_money_valuation</th>\n",
       "      <th>pre_money_currency_code</th>\n",
       "      <th>post_money_valuation_usd</th>\n",
       "      <th>post_money_valuation</th>\n",
       "      <th>post_money_currency_code</th>\n",
       "      <th>funded_at_yr</th>\n",
       "    </tr>\n",
       "  </thead>\n",
       "  <tbody>\n",
       "    <tr>\n",
       "      <th>0</th>\n",
       "      <td>1</td>\n",
       "      <td>1</td>\n",
       "      <td>'c:4'</td>\n",
       "      <td>'2006-12-01'</td>\n",
       "      <td>'series-b'</td>\n",
       "      <td>'b'</td>\n",
       "      <td>8500000</td>\n",
       "      <td>8500000</td>\n",
       "      <td>'USD'</td>\n",
       "      <td>NULL</td>\n",
       "      <td>NULL</td>\n",
       "      <td>NULL</td>\n",
       "      <td>NULL</td>\n",
       "      <td>NULL</td>\n",
       "      <td>NULL</td>\n",
       "      <td>2006</td>\n",
       "    </tr>\n",
       "    <tr>\n",
       "      <th>1</th>\n",
       "      <td>2</td>\n",
       "      <td>2</td>\n",
       "      <td>'c:5'</td>\n",
       "      <td>'2004-09-01'</td>\n",
       "      <td>'angel'</td>\n",
       "      <td>'angel'</td>\n",
       "      <td>500000</td>\n",
       "      <td>500000</td>\n",
       "      <td>'USD'</td>\n",
       "      <td>NULL</td>\n",
       "      <td>NULL</td>\n",
       "      <td>'USD'</td>\n",
       "      <td>NULL</td>\n",
       "      <td>NULL</td>\n",
       "      <td>'USD'</td>\n",
       "      <td>2004</td>\n",
       "    </tr>\n",
       "    <tr>\n",
       "      <th>2</th>\n",
       "      <td>3</td>\n",
       "      <td>3</td>\n",
       "      <td>'c:5'</td>\n",
       "      <td>'2005-05-01'</td>\n",
       "      <td>'series-a'</td>\n",
       "      <td>'a'</td>\n",
       "      <td>12700000</td>\n",
       "      <td>12700000</td>\n",
       "      <td>'USD'</td>\n",
       "      <td>115000000</td>\n",
       "      <td>115000000</td>\n",
       "      <td>'USD'</td>\n",
       "      <td>NULL</td>\n",
       "      <td>NULL</td>\n",
       "      <td>'USD'</td>\n",
       "      <td>2005</td>\n",
       "    </tr>\n",
       "    <tr>\n",
       "      <th>3</th>\n",
       "      <td>4</td>\n",
       "      <td>4</td>\n",
       "      <td>'c:5'</td>\n",
       "      <td>'2006-04-01'</td>\n",
       "      <td>'series-b'</td>\n",
       "      <td>'b'</td>\n",
       "      <td>27500000</td>\n",
       "      <td>27500000</td>\n",
       "      <td>'USD'</td>\n",
       "      <td>525000000</td>\n",
       "      <td>525000000</td>\n",
       "      <td>'USD'</td>\n",
       "      <td>NULL</td>\n",
       "      <td>NULL</td>\n",
       "      <td>'USD'</td>\n",
       "      <td>2006</td>\n",
       "    </tr>\n",
       "    <tr>\n",
       "      <th>4</th>\n",
       "      <td>5</td>\n",
       "      <td>5</td>\n",
       "      <td>'c:7299'</td>\n",
       "      <td>'2006-05-01'</td>\n",
       "      <td>'series-b'</td>\n",
       "      <td>'b'</td>\n",
       "      <td>10500000</td>\n",
       "      <td>10500000</td>\n",
       "      <td>'USD'</td>\n",
       "      <td>NULL</td>\n",
       "      <td>NULL</td>\n",
       "      <td>NULL</td>\n",
       "      <td>NULL</td>\n",
       "      <td>NULL</td>\n",
       "      <td>NULL</td>\n",
       "      <td>2006</td>\n",
       "    </tr>\n",
       "  </tbody>\n",
       "</table>\n",
       "</div>"
      ],
      "text/plain": [
       "  id funding_round_id object_id     funded_at funding_round_type  \\\n",
       "0  1                1     'c:4'  '2006-12-01'         'series-b'   \n",
       "1  2                2     'c:5'  '2004-09-01'            'angel'   \n",
       "2  3                3     'c:5'  '2005-05-01'         'series-a'   \n",
       "3  4                4     'c:5'  '2006-04-01'         'series-b'   \n",
       "4  5                5  'c:7299'  '2006-05-01'         'series-b'   \n",
       "\n",
       "  funding_round_code raised_amount_usd raised_amount raised_currency_code  \\\n",
       "0                'b'           8500000       8500000                'USD'   \n",
       "1            'angel'            500000        500000                'USD'   \n",
       "2                'a'          12700000      12700000                'USD'   \n",
       "3                'b'          27500000      27500000                'USD'   \n",
       "4                'b'          10500000      10500000                'USD'   \n",
       "\n",
       "  pre_money_valuation_usd pre_money_valuation pre_money_currency_code  \\\n",
       "0                    NULL                NULL                    NULL   \n",
       "1                    NULL                NULL                   'USD'   \n",
       "2               115000000           115000000                   'USD'   \n",
       "3               525000000           525000000                   'USD'   \n",
       "4                    NULL                NULL                    NULL   \n",
       "\n",
       "  post_money_valuation_usd post_money_valuation post_money_currency_code  \\\n",
       "0                     NULL                 NULL                     NULL   \n",
       "1                     NULL                 NULL                    'USD'   \n",
       "2                     NULL                 NULL                    'USD'   \n",
       "3                     NULL                 NULL                    'USD'   \n",
       "4                     NULL                 NULL                     NULL   \n",
       "\n",
       "  funded_at_yr  \n",
       "0         2006  \n",
       "1         2004  \n",
       "2         2005  \n",
       "3         2006  \n",
       "4         2006  "
      ]
     },
     "execution_count": 13,
     "metadata": {},
     "output_type": "execute_result"
    }
   ],
   "source": [
    "cb_funding_rounds.head()"
   ]
  },
  {
   "cell_type": "code",
   "execution_count": 14,
   "metadata": {
    "collapsed": false
   },
   "outputs": [
    {
     "data": {
      "text/plain": [
       "'series-a'          1517\n",
       "'angel'             1092\n",
       "'series-b'           753\n",
       "'series-c+'          480\n",
       "'venture'            275\n",
       "'other'               62\n",
       "'private-equity'       1\n",
       "'post-ipo'             1\n",
       "Name: funding_round_type, dtype: int64"
      ]
     },
     "execution_count": 14,
     "metadata": {},
     "output_type": "execute_result"
    }
   ],
   "source": [
    "cb_funding_rounds.funding_round_type.value_counts()"
   ]
  },
  {
   "cell_type": "code",
   "execution_count": 15,
   "metadata": {
    "collapsed": false
   },
   "outputs": [
    {
     "data": {
      "text/plain": [
       "'USD'    3473\n",
       "NULL      498\n",
       "'EUR'     144\n",
       "'GBP'      44\n",
       "'CAD'      21\n",
       "'JPY'       1\n",
       "Name: raised_currency_code, dtype: int64"
      ]
     },
     "execution_count": 15,
     "metadata": {},
     "output_type": "execute_result"
    }
   ],
   "source": [
    "cb_funding_rounds.raised_currency_code.value_counts()"
   ]
  },
  {
   "cell_type": "code",
   "execution_count": 16,
   "metadata": {
    "collapsed": false
   },
   "outputs": [
    {
     "data": {
      "text/plain": [
       "'a'                  1346\n",
       "'b'                   753\n",
       "'seed'                711\n",
       "'angel'               552\n",
       "'c'                   321\n",
       "'unattributed'        275\n",
       "'d'                   112\n",
       "'debt_round'           59\n",
       "'e'                    37\n",
       "'f'                    10\n",
       "'grant'                 3\n",
       "'post_ipo_equity'       1\n",
       "'private_equity'        1\n",
       "Name: funding_round_code, dtype: int64"
      ]
     },
     "execution_count": 16,
     "metadata": {},
     "output_type": "execute_result"
    }
   ],
   "source": [
    "cb_funding_rounds.funding_round_code.value_counts()"
   ]
  },
  {
   "cell_type": "code",
   "execution_count": 17,
   "metadata": {
    "collapsed": false
   },
   "outputs": [
    {
     "data": {
      "text/plain": [
       "<matplotlib.text.Text at 0x22a62668>"
      ]
     },
     "execution_count": 17,
     "metadata": {},
     "output_type": "execute_result"
    },
    {
     "data": {
      "image/png": "[encoded data removed]",
      "text/plain": [
       "<matplotlib.figure.Figure at 0x21984b38>"
      ]
     },
     "metadata": {},
     "output_type": "display_data"
    }
   ],
   "source": [
    "#exploring funding rounds\n",
    "temp1 = cb_funding_rounds.groupby('funding_round_type').funding_round_type.count()\n",
    "temp2 = cb_funding_rounds.groupby('funding_round_code').funding_round_code.count()\n",
    "temp3 = cb_funding_rounds.groupby('funded_at_yr').funding_round_code.count()\n",
    "\n",
    "fig = plt.pyplot.figure(figsize=(14,4))\n",
    "ax1 = fig.add_subplot(131)\n",
    "ax1.set_xlabel('round type')\n",
    "ax1.set_ylabel('# Funding rounds')\n",
    "ax1.set_title(\"Funding rounds by round type\")\n",
    "temp1.plot(kind='bar')\n",
    "\n",
    "ax2 = fig.add_subplot(132)\n",
    "temp2.plot(kind = 'bar')\n",
    "ax2.set_xlabel('round code')\n",
    "ax2.set_ylabel('# Funding rounds')\n",
    "ax2.set_title(\"Funding rounds by round code\")\n",
    "\n",
    "ax3 = fig.add_subplot(133)\n",
    "temp3.plot(kind = 'bar')\n",
    "ax3.set_xlabel('year')\n",
    "ax3.set_ylabel('# Funding rounds')\n",
    "ax3.set_title(\"Funding rounds by year\")"
   ]
  },
  {
   "cell_type": "code",
   "execution_count": 18,
   "metadata": {
    "collapsed": false
   },
   "outputs": [
    {
     "data": {
      "text/plain": [
       "id                          object\n",
       "funding_round_id            object\n",
       "object_id                   object\n",
       "funded_at                   object\n",
       "funding_round_type          object\n",
       "funding_round_code          object\n",
       "raised_amount_usd           object\n",
       "raised_amount               object\n",
       "raised_currency_code        object\n",
       "pre_money_valuation_usd     object\n",
       "pre_money_valuation         object\n",
       "pre_money_currency_code     object\n",
       "post_money_valuation_usd    object\n",
       "post_money_valuation        object\n",
       "post_money_currency_code    object\n",
       "funded_at_yr                object\n",
       "dtype: object"
      ]
     },
     "execution_count": 18,
     "metadata": {},
     "output_type": "execute_result"
    }
   ],
   "source": [
    "cb_funding_rounds.dtypes"
   ]
  },
  {
   "cell_type": "code",
   "execution_count": 19,
   "metadata": {
    "collapsed": false
   },
   "outputs": [],
   "source": [
    "#remove nulls from amount raised\n",
    "cb_funding_rounds['raised_amount_usd'] = cb_funding_rounds[cb_funding_rounds.raised_amount_usd != 'NULL']\n",
    "\n",
    "#remove some funding type outliers\n",
    "#cb_funding_rounds['funding_round_code'] = cb_funding_rounds[cb_funding_rounds.funding_round_code != 'private_equity']\n",
    "#cb_funding_rounds['funding_round_code'] = cb_funding_rounds[cb_funding_rounds.funding_round_code != 'post_ipo_equity']\n",
    "#cb_funding_rounds['funding_round_code'] = cb_funding_rounds[cb_funding_rounds.funding_round_code != 'grant']\n",
    "\n",
    "\n",
    "#cb_funding_rounds=cb_funding_rounds[mask1]\n",
    "#cb_funding_rounds.raised_amount_usd.value_counts()\n",
    "# mask2 = cb_funding_rounds[funding_round_type] in ['angel' , 'series-a' , 'series-b', 'series-c+']\n"
   ]
  },
  {
   "cell_type": "code",
   "execution_count": 20,
   "metadata": {
    "collapsed": false
   },
   "outputs": [],
   "source": [
    "cb_funding_rounds['raised_amount_usd']=cb_funding_rounds['raised_amount_usd'].astype(float)"
   ]
  },
  {
   "cell_type": "code",
   "execution_count": 40,
   "metadata": {
    "collapsed": false
   },
   "outputs": [
    {
     "data": {
      "text/plain": [
       "<matplotlib.axes._subplots.AxesSubplot at 0x26b52400>"
      ]
     },
     "execution_count": 40,
     "metadata": {},
     "output_type": "execute_result"
    },
    {
     "data": {
      "image/png": "[encoded data removed]",
      "text/plain": [
       "<matplotlib.figure.Figure at 0x25f917f0>"
      ]
     },
     "metadata": {},
     "output_type": "display_data"
    }
   ],
   "source": [
    "sns.set_style(\"dark\")\n",
    "plt.pyplot.figure(figsize=(11, 9))\n",
    "sns.boxplot(x='funding_round_code', y='raised_amount_usd', data=cb_funding_rounds)"
   ]
  },
  {
   "cell_type": "code",
   "execution_count": 41,
   "metadata": {
    "collapsed": false
   },
   "outputs": [
    {
     "data": {
      "text/plain": [
       "<matplotlib.axes._subplots.AxesSubplot at 0x26b52390>"
      ]
     },
     "execution_count": 41,
     "metadata": {},
     "output_type": "execute_result"
    },
    {
     "data": {
      "image/png": "[encoded data removed]",
      "text/plain": [
       "<matplotlib.figure.Figure at 0x24844ba8>"
      ]
     },
     "metadata": {},
     "output_type": "display_data"
    }
   ],
   "source": [
    "plt.pyplot.figure(figsize=(11, 9))\n",
    "sns.boxplot(x='funding_round_type', y='raised_amount_usd', data=cb_funding_rounds)"
   ]
  },
  {
   "cell_type": "code",
   "execution_count": 23,
   "metadata": {
    "collapsed": false
   },
   "outputs": [],
   "source": [
    "#mask2 = cb_funding_rounds['funding_round_type'] in ['angel' , 'series-a' , 'series-b', 'series-c+']\n",
    "#mask2\n",
    "#cb_funding_rounds[funding_round_type]= cb_funding_rounds[mask2]\n",
    "#cb_funding_rounds[funding_round_type].valuecounts()\n",
    "#sns.boxplot(x='funding_round_code', y='raised_amount_usd', data=cb_funding_rounds)\n",
    "\n",
    "\n",
    "#cb_funding_rounds['raised_amount_usd'] = cb_funding_rounds[cb_funding_rounds.raised_amount_usd != 'NULL']"
   ]
  },
  {
   "cell_type": "code",
   "execution_count": 43,
   "metadata": {
    "collapsed": false
   },
   "outputs": [
    {
     "data": {
      "text/plain": [
       "<matplotlib.axes._subplots.AxesSubplot at 0x274c9d30>"
      ]
     },
     "execution_count": 43,
     "metadata": {},
     "output_type": "execute_result"
    },
    {
     "data": {
      "image/png": "[encoded data removed]",
      "text/plain": [
       "<matplotlib.figure.Figure at 0x26b520b8>"
      ]
     },
     "metadata": {},
     "output_type": "display_data"
    }
   ],
   "source": [
    "plt.pyplot.figure(figsize=(14, 9))\n",
    "sns.violinplot(x='funding_round_code', y='raised_amount_usd', data=cb_funding_rounds, size=12)"
   ]
  },
  {
   "cell_type": "code",
   "execution_count": null,
   "metadata": {
    "collapsed": true
   },
   "outputs": [],
   "source": []
  }
 ],
 "metadata": {
  "kernelspec": {
   "display_name": "Python 2",
   "language": "python",
   "name": "python2"
  },
  "language_info": {
   "codemirror_mode": {
    "name": "ipython",
    "version": 2
   },
   "file_extension": ".py",
   "mimetype": "text/x-python",
   "name": "python",
   "nbconvert_exporter": "python",
   "pygments_lexer": "ipython2",
   "version": "2.7.11"
  }
 },
 "nbformat": 4,
 "nbformat_minor": 0
}
